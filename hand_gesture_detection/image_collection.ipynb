{
 "cells": [
  {
   "cell_type": "code",
   "execution_count": null,
   "metadata": {},
   "outputs": [],
   "source": [
    "import os\n",
    "import cv2\n",
    "import time, uuid"
   ]
  },
  {
   "cell_type": "code",
   "execution_count": null,
   "metadata": {},
   "outputs": [],
   "source": [
    "# define images to collect\n",
    "labels = ['thumbsup', 'thumbsdown', 'thankyou', 'livelong']\n",
    "number_imgs = 5"
   ]
  },
  {
   "cell_type": "code",
   "execution_count": null,
   "metadata": {},
   "outputs": [],
   "source": [
    "# setup folders\n",
    "IMAGE_PATH = os.path.join('tensorflow', 'workspace', 'images', 'collectionimages')\n",
    "if not os.path.exists(IMAGE_PATH):\n",
    "    if os.name == 'posix':\n",
    "        !mkdir -p {IMAGE_PATH}\n",
    "    if os.name == 'nt':\n",
    "        !mkdir {IMAGE_PATH}\n",
    "\n",
    "for label in labels:\n",
    "    path = os.path.join(IMAGE_PATH, label)\n",
    "    if not os.path.exists(path):\n",
    "        !mkdir {path}"
   ]
  },
  {
   "cell_type": "code",
   "execution_count": null,
   "metadata": {},
   "outputs": [],
   "source": [
    "# capture images\n",
    "for label in labels:\n",
    "    cap = cv2.VideoCapture(0)\n",
    "    print('Collecting images for {}'.format(label))\n",
    "    time.sleep(3)\n",
    "\n",
    "    for img_idx in range(number_imgs):\n",
    "        print('Collecting image {}'.format(img_idx))\n",
    "        ret, frame = cap.read()\n",
    "        img_name = os.path.join(IMAGE_PATH, label, label+'.'+'{}.jpg'.format(str(uuid.uuid1())))\n",
    "        cv2.imwrite(img_name, frame)\n",
    "        cv2.imshow('frame', frame)\n",
    "        time.sleep(2)\n",
    "\n",
    "        if cv2.waitKey(1) & 0xFF == ord('q'):\n",
    "            break\n",
    "\n",
    "cap.release()\n",
    "cv2.destroyAllWindows()"
   ]
  },
  {
   "cell_type": "code",
   "execution_count": null,
   "metadata": {},
   "outputs": [],
   "source": [
    "# image labelling\n",
    "LABEL_PATH = os.path.join('tensorflow', 'labelimg')\n",
    "if not os.path.exists(LABEL_PATH):\n",
    "    !mkdir {LABEL_PATH}\n",
    "    !git clone https://github.com/tzutalin/labelImg {LABEL_PATH}\n",
    "\n",
    "if os.name == 'posix':\n",
    "    !make qt5py3\n",
    "if os.name =='nt':\n",
    "    !cd {LABELIMG_PATH} && pyrcc5 -o libs/resources.py resources.qrc\n",
    "\n",
    "!cd {LABELIMG_PATH} && python labelImg.py"
   ]
  },
  {
   "cell_type": "code",
   "execution_count": null,
   "metadata": {},
   "outputs": [],
   "source": [
    "# move images for next step\n",
    "TRAIN_PATH = os.path.join('tensorflow', 'workspace', 'images', 'train')\n",
    "TEST_PATH = os.path.join('tensorflow', 'workspace', 'images', 'test')\n",
    "ARCHIVE_PATH = os.path.join('tensorflow', 'workspace', 'images', 'archive.tar.gz')\n",
    "\n",
    "!tar -czf {ARCHIVE_PATH} {TRAIN_PATH} {TEST_PATH}"
   ]
  },
  {
   "cell_type": "code",
   "execution_count": null,
   "metadata": {},
   "outputs": [],
   "source": []
  }
 ],
 "metadata": {
  "interpreter": {
   "hash": "fd01057f794066b991edc160d3412c37e4be61dcf66a0808f9eb649f829c7d52"
  },
  "kernelspec": {
   "display_name": "Python 3.8.8 64-bit ('tfmac': conda)",
   "name": "python3"
  },
  "language_info": {
   "codemirror_mode": {
    "name": "ipython",
    "version": 3
   },
   "file_extension": ".py",
   "mimetype": "text/x-python",
   "name": "python",
   "nbconvert_exporter": "python",
   "pygments_lexer": "ipython3",
   "version": "3.8.8"
  },
  "orig_nbformat": 4
 },
 "nbformat": 4,
 "nbformat_minor": 2
}